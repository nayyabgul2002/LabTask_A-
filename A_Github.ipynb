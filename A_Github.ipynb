{
  "nbformat": 4,
  "nbformat_minor": 0,
  "metadata": {
    "colab": {
      "provenance": [],
      "toc_visible": true
    },
    "kernelspec": {
      "name": "python3",
      "display_name": "Python 3"
    },
    "language_info": {
      "name": "python"
    }
  },
  "cells": [
    {
      "cell_type": "code",
      "execution_count": 5,
      "metadata": {
        "colab": {
          "base_uri": "https://localhost:8080/"
        },
        "id": "m6yYIP3BFnZ4",
        "outputId": "72211b5b-a81e-4a68-bc36-89f6e2692953"
      },
      "outputs": [
        {
          "output_type": "stream",
          "name": "stdout",
          "text": [
            "Optimal path: Lahore -> Faisalabad -> Multan -> Karachi\n",
            "Total estimated travel time: 13.55 hours\n"
          ]
        }
      ],
      "source": [
        "import heapq\n",
        "from queue import PriorityQueue\n",
        "\n",
        "city_coords = {\n",
        "    \"Lahore\": (31.5497, 74.3436),\n",
        "    \"Faisalabad\": (31.4180, 73.0791),\n",
        "    \"Multan\": (30.1575, 71.5249),\n",
        "    \"Karachi\": (24.8607, 67.0011)\n",
        "}\n",
        "\n",
        "graph = {\n",
        "    \"Lahore\": {\"Faisalabad\": 180 / 90},\n",
        "    \"Faisalabad\": {\"Lahore\": 180 / 90, \"Multan\": 220 / 80},\n",
        "    \"Multan\": {\"Faisalabad\": 220 / 80, \"Karachi\": 880 / 100},\n",
        "    \"Karachi\": {\"Multan\": 880 / 100}\n",
        "}\n",
        "\n",
        "h = {\n",
        "    \"Lahore\": 12.0,\n",
        "    \"Faisalabad\": 10.5,\n",
        "    \"Multan\": 8.5,\n",
        "    \"Karachi\": 0.0\n",
        "}\n",
        "\n",
        "def a_star_search(start, goal):\n",
        "    open_set = PriorityQueue()\n",
        "    open_set.put((0, start))\n",
        "\n",
        "    came_from = {}\n",
        "    g_score = {city: float('inf') for city in graph}\n",
        "    g_score[start] = 0\n",
        "\n",
        "    f_score = {city: float('inf') for city in graph}\n",
        "    f_score[start] = h[start]\n",
        "\n",
        "    while not open_set.empty():\n",
        "        _, current = open_set.get()\n",
        "\n",
        "        if current == goal:\n",
        "            path = []\n",
        "            total_cost = 0\n",
        "            while current in came_from:\n",
        "                prev = came_from[current]\n",
        "                path.append(current)\n",
        "                total_cost += graph[prev][current]\n",
        "                current = prev\n",
        "            path.append(start)\n",
        "            path.reverse()\n",
        "            return path, total_cost\n",
        "\n",
        "        for neighbor in graph[current]:\n",
        "            tentative_g = g_score[current] + graph[current][neighbor]\n",
        "            if tentative_g < g_score[neighbor]:\n",
        "                came_from[neighbor] = current\n",
        "                g_score[neighbor] = tentative_g\n",
        "                f_score[neighbor] = tentative_g + h[neighbor]\n",
        "                open_set.put((f_score[neighbor], neighbor))\n",
        "\n",
        "    return None, None\n",
        "\n",
        "path, cost = a_star_search(\"Lahore\", \"Karachi\")\n",
        "\n",
        "if path:\n",
        "    print(\"Optimal path:\", \" -> \".join(path))\n",
        "    print(f\"Total estimated travel time: {cost:.2f} hours\")\n",
        "else:\n",
        "    print(\"No path found.\")\n"
      ]
    }
  ]
}